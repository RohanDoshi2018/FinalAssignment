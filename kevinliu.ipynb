{
 "cells": [
  {
   "cell_type": "code",
   "execution_count": 3,
   "metadata": {
    "collapsed": true
   },
   "outputs": [],
   "source": [
    "import pandas as pd\n",
    "import numpy as np\n",
    "import sqlite3"
   ]
  },
  {
   "cell_type": "code",
   "execution_count": 304,
   "metadata": {
    "collapsed": false
   },
   "outputs": [],
   "source": [
    "con = sqlite3.connect('../data/database.sqlite')\n",
    "raw = pd.read_sql('select Year, UNITID, INSTNM, DISTANCEONLY, HIGHDEG, UGDS, UGDS_WHITE, UGDS_BLACK, UGDS_HISP, UGDS_ASIAN, UGDS_AIAN, UGDS_NHPI,\\\n",
    "                   UGDS_2MOR, UGDS_NRA, UGDS_UNKN, UG25abv, INC_PCT_LO, DEP_STAT_PCT_IND, DEP_INC_PCT_LO, \\\n",
    "                   IND_INC_PCT_LO,\\\n",
    "                   DEP_INC_PCT_M1, DEP_INC_PCT_M2, DEP_INC_PCT_H1, IND_INC_PCT_M1, IND_INC_PCT_M2, IND_INC_PCT_H1, \\\n",
    "                   IND_INC_PCT_H2,\\\n",
    "                   DEP_INC_PCT_H2, PAR_ED_PCT_1STGEN, pct_white, pct_black, pct_asian, pct_hispanic, pct_ba, \\\n",
    "                   pct_grad_prof,\\\n",
    "                   pct_born_us, median_hh_inc, poverty_rate, unemp_rate, ln_median_hh_inc, pell_ever, female, \\\n",
    "                   fsend_1, fsend_2,\\\n",
    "                   fsend_3, fsend_4, fsend_5, INC_PCT_LO, INC_PCT_M1, INC_PCT_M2, INC_PCT_H1, INC_PCT_H2, LATITUDE,\\\n",
    "                   LONGITUDE, ZIP, STABBR, region, LOCALE, CURROPER, NPT4_PUB,\\\n",
    "                   NPT4_PRIV, NPT41_PUB, NPT42_PUB, NPT43_PUB, NPT44_PUB, NPT45_PUB, NPT41_PRIV, NPT42_PRIV, \\\n",
    "                   NPT43_PRIV,\\\n",
    "                   NPT44_PRIV, NPT45_PRIV, TUITIONFEE_IN, TUITIONFEE_OUT, PCTPELL, ADM_RATE, RET_FT4, SATVR25, \\\n",
    "                   SATVR75,\\\n",
    "                   SATMT25, SATMT75, SATWR25, SATWR75, SATVRMID, SATMTMID, SATWRMID, ACTCM25, ACTCM75, ACTEN25, \\\n",
    "                   ACTEN75,\\\n",
    "                   ACTMT25, ACTMT75, ACTWR25, ACTWR75, ACTCMMID, ACTENMID, ACTMTMID, ACTWRMID, SAT_AVG, SAT_AVG_ALL,\\\n",
    "                   PCIP01, PCIP03, PCIP04, PCIP05, PCIP09, PCIP10, PCIP11, PCIP12,\\\n",
    "                   PCIP13, PCIP14, PCIP15, PCIP16, PCIP19, PCIP22, PCIP23, PCIP24, PCIP25, PCIP26, PCIP27, PCIP29,\\\n",
    "                   PCIP30,\\\n",
    "                   PCIP31, PCIP38, PCIP39, PCIP40, PCIP41, PCIP42, PCIP43, PCIP44, PCIP45, PCIP46, PCIP47, PCIP48,\\\n",
    "                   PCIP49,\\\n",
    "                   PCIP50, PCIP51, PCIP52, PCIP54, C150_4_WHITE, C150_4_BLACK, C150_4_HISP, C150_4_ASIAN,\\\n",
    "                   ENRL_ORIG_YR2_RT,\\\n",
    "                   LO_INC_ENRL_ORIG_YR2_RT, MD_INC_ENRL_ORIG_YR2_RT, HI_INC_ENRL_ORIG_YR2_RT, DEP_ENRL_ORIG_YR2_RT,\\\n",
    "                   IND_ENRL_ORIG_YR2_RT,\\\n",
    "                   FEMALE_ENRL_ORIG_YR2_RT, MALE_ENRL_ORIG_YR2_RT, PELL_ENRL_ORIG_YR2_RT, NOPELL_ENRL_ORIG_YR2_RT,\\\n",
    "                   LOAN_ENRL_ORIG_YR2_RT,\\\n",
    "                   NOLOAN_ENRL_ORIG_YR2_RT, FIRSTGEN_ENRL_ORIG_YR2_RT, NOT1STGEN_ENRL_ORIG_YR2_RT, ENRL_ORIG_YR3_RT,\\\n",
    "                   LO_INC_ENRL_ORIG_YR3_RT,\\\n",
    "                   MD_INC_ENRL_ORIG_YR3_RT, HI_INC_ENRL_ORIG_YR3_RT, DEP_ENRL_ORIG_YR3_RT, IND_ENRL_ORIG_YR3_RT, \\\n",
    "                   FEMALE_ENRL_ORIG_YR3_RT,\\\n",
    "                   MALE_ENRL_ORIG_YR3_RT, PELL_ENRL_ORIG_YR3_RT, NOPELL_ENRL_ORIG_YR3_RT, LOAN_ENRL_ORIG_YR3_RT, \\\n",
    "                   NOLOAN_ENRL_ORIG_YR3_RT,\\\n",
    "                   FIRSTGEN_ENRL_ORIG_YR3_RT, NOT1STGEN_ENRL_ORIG_YR3_RT, ENRL_ORIG_YR4_RT, LO_INC_ENRL_ORIG_YR4_RT,\\\n",
    "                   MD_INC_ENRL_ORIG_YR4_RT,\\\n",
    "                   HI_INC_ENRL_ORIG_YR4_RT, DEP_ENRL_ORIG_YR4_RT, IND_ENRL_ORIG_YR4_RT, FEMALE_ENRL_ORIG_YR4_RT, \\\n",
    "                   MALE_ENRL_ORIG_YR4_RT,\\\n",
    "                   PELL_ENRL_ORIG_YR4_RT, NOPELL_ENRL_ORIG_YR4_RT, LOAN_ENRL_ORIG_YR4_RT, NOLOAN_ENRL_ORIG_YR4_RT, \\\n",
    "                   FIRSTGEN_ENRL_ORIG_YR4_RT,\\\n",
    "                   NOT1STGEN_ENRL_ORIG_YR4_RT, ENRL_ORIG_YR6_RT, LO_INC_ENRL_ORIG_YR6_RT, MD_INC_ENRL_ORIG_YR6_RT,\\\n",
    "                   HI_INC_ENRL_ORIG_YR6_RT,\\\n",
    "                   DEP_ENRL_ORIG_YR6_RT, IND_ENRL_ORIG_YR6_RT, FEMALE_ENRL_ORIG_YR6_RT, MALE_ENRL_ORIG_YR6_RT, \\\n",
    "                   PELL_ENRL_ORIG_YR6_RT,\\\n",
    "                   NOPELL_ENRL_ORIG_YR6_RT, LOAN_ENRL_ORIG_YR6_RT, NOLOAN_ENRL_ORIG_YR6_RT, \\\n",
    "                   FIRSTGEN_ENRL_ORIG_YR6_RT,\\\n",
    "                   NOT1STGEN_ENRL_ORIG_YR6_RT,\\\n",
    "                   ENRL_ORIG_YR8_RT, LO_INC_ENRL_ORIG_YR8_RT, MD_INC_ENRL_ORIG_YR8_RT, HI_INC_ENRL_ORIG_YR8_RT, \\\n",
    "                   DEP_ENRL_ORIG_YR8_RT,\\\n",
    "                   IND_ENRL_ORIG_YR8_RT, FEMALE_ENRL_ORIG_YR8_RT, MALE_ENRL_ORIG_YR8_RT, PELL_ENRL_ORIG_YR8_RT, \\\n",
    "                   NOPELL_ENRL_ORIG_YR8_RT,\\\n",
    "                   LOAN_ENRL_ORIG_YR8_RT, NOLOAN_ENRL_ORIG_YR8_RT, FIRSTGEN_ENRL_ORIG_YR8_RT, \\\n",
    "                   NOT1STGEN_ENRL_ORIG_YR8_RT, \\\n",
    "                   C150_4_POOLED_SUPP,\\\n",
    "                   PCTFLOAN, DEBT_MDN, GRAD_DEBT_MDN, WDRAW_DEBT_MDN, LO_INC_DEBT_MDN, MD_INC_DEBT_MDN,\\\n",
    "                   HI_INC_DEBT_MDN, \\\n",
    "                   DEP_DEBT_MDN,\\\n",
    "                   IND_DEBT_MDN, PELL_DEBT_MDN, NOPELL_DEBT_MDN, CUML_DEBT_N, CUML_DEBT_P90, CUML_DEBT_P75,\\\n",
    "                   CUML_DEBT_P25,\\\n",
    "                   CUML_DEBT_P10, loan_ever, DEBT_MDN_SUPP, GRAD_DEBT_MDN_SUPP, GRAD_DEBT_MDN10YR_SUPP, CDR2, \\\n",
    "                   CDR3, COMPL_RPY_1YR_RT,\\\n",
    "                   NONCOM_RPY_1YR_RT, LO_INC_RPY_1YR_RT, MD_INC_RPY_1YR_RT, HI_INC_RPY_1YR_RT, DEP_RPY_1YR_RT, \\\n",
    "                   IND_RPY_1YR_RT,\\\n",
    "                   PELL_RPY_1YR_RT, NOPELL_RPY_1YR_RT, FEMALE_RPY_1YR_RT, MALE_RPY_1YR_RT, FIRSTGEN_RPY_1YR_RT, \\\n",
    "                   NOTFIRSTGEN_RPY_1YR_RT,\\\n",
    "                   RPY_3YR_RT, COMPL_RPY_3YR_RT, NONCOM_RPY_3YR_RT, LO_INC_RPY_3YR_RT, MD_INC_RPY_3YR_RT,\\\n",
    "                   HI_INC_RPY_3YR_RT, DEP_RPY_3YR_RT,\\\n",
    "                   IND_RPY_3YR_RT, PELL_RPY_3YR_RT, NOPELL_RPY_3YR_RT, FEMALE_RPY_3YR_RT, MALE_RPY_3YR_RT, \\\n",
    "                   FIRSTGEN_RPY_3YR_RT,\\\n",
    "                   NOTFIRSTGEN_RPY_3YR_RT, RPY_5YR_RT, COMPL_RPY_5YR_RT, NONCOM_RPY_5YR_RT, LO_INC_RPY_5YR_RT, \\\n",
    "                   MD_INC_RPY_5YR_RT,\\\n",
    "                   HI_INC_RPY_5YR_RT, DEP_RPY_5YR_RT, IND_RPY_5YR_RT, PELL_RPY_5YR_RT, NOPELL_RPY_5YR_RT, \\\n",
    "                   FEMALE_RPY_5YR_RT,\\\n",
    "                   MALE_RPY_5YR_RT, FIRSTGEN_RPY_5YR_RT, NOTFIRSTGEN_RPY_5YR_RT, RPY_7YR_RT, COMPL_RPY_7YR_RT, \\\n",
    "                   NONCOM_RPY_7YR_RT,\\\n",
    "                   LO_INC_RPY_7YR_RT, MD_INC_RPY_7YR_RT, HI_INC_RPY_7YR_RT, DEP_RPY_7YR_RT, IND_RPY_7YR_RT, \\\n",
    "                   PELL_RPY_7YR_RT,\\\n",
    "                   NOPELL_RPY_7YR_RT, FEMALE_RPY_7YR_RT, MALE_RPY_7YR_RT, FIRSTGEN_RPY_7YR_RT, \\\n",
    "                   NOTFIRSTGEN_RPY_7YR_RT,\\\n",
    "                   count_ed,\\\n",
    "                   count_nwne_p6, count_wne_p6, mn_earn_wne_p6, md_earn_wne_p6, pct10_earn_wne_p6, \\\n",
    "                   pct25_earn_wne_p6,\\\n",
    "                   pct75_earn_wne_p6, pct90_earn_wne_p6, sd_earn_wne_p6, gt_25k_p6, mn_earn_wne_inc1_p6, \\\n",
    "                   mn_earn_wne_inc2_p6,\\\n",
    "                   mn_earn_wne_inc3_p6 from Scorecard', con)"
   ]
  },
  {
   "cell_type": "code",
   "execution_count": 305,
   "metadata": {
    "collapsed": false
   },
   "outputs": [
    {
     "data": {
      "text/plain": [
       "(124699, 303)"
      ]
     },
     "execution_count": 305,
     "metadata": {},
     "output_type": "execute_result"
    }
   ],
   "source": [
    "raw.shape"
   ]
  },
  {
   "cell_type": "code",
   "execution_count": 306,
   "metadata": {
    "collapsed": false
   },
   "outputs": [],
   "source": [
    "raw_2013 = raw.ix[raw.Year==2013,:]\n",
    "raw_2005 = raw.ix[raw.Year==2005,:]"
   ]
  },
  {
   "cell_type": "code",
   "execution_count": 307,
   "metadata": {
    "collapsed": false
   },
   "outputs": [],
   "source": [
    "raw_2013 = raw_2013.reset_index()\n",
    "raw_2005 = raw_2005.reset_index()"
   ]
  },
  {
   "cell_type": "code",
   "execution_count": 308,
   "metadata": {
    "collapsed": false
   },
   "outputs": [],
   "source": [
    "raw_2013 = raw_2013.drop('index',axis=1)\n",
    "raw_2005 = raw_2005.drop('index',axis=1)"
   ]
  },
  {
   "cell_type": "code",
   "execution_count": 309,
   "metadata": {
    "collapsed": false
   },
   "outputs": [],
   "source": [
    "id_t = []\n",
    "id_special = []\n",
    "nonnull_counts = raw_2013.count()\n",
    "for i in range(0,len(nonnull_counts)):\n",
    "    if float(nonnull_counts.ix[i,0])/float(len(raw_2013)) < 0.7:\n",
    "        if float(nonnull_counts.ix[i,0])/float(len(raw_2013)) > 0:\n",
    "            # print i, raw_2013.columns.values[i], 100*float(nonnull_counts.ix[i,0])/float(len(raw_2013))\n",
    "            id_special.append(i)\n",
    "        else:\n",
    "            id_t.append(i)"
   ]
  },
  {
   "cell_type": "code",
   "execution_count": 310,
   "metadata": {
    "collapsed": false
   },
   "outputs": [],
   "source": [
    "data_2005 = raw_2005.ix[:,id_t]\n",
    "data_2013 = raw_2013.drop(raw_2013.columns[id_t],axis=1)"
   ]
  },
  {
   "cell_type": "code",
   "execution_count": 311,
   "metadata": {
    "collapsed": false
   },
   "outputs": [
    {
     "data": {
      "text/plain": [
       "6824"
      ]
     },
     "execution_count": 311,
     "metadata": {},
     "output_type": "execute_result"
    }
   ],
   "source": [
    "len(data_2005)"
   ]
  },
  {
   "cell_type": "code",
   "execution_count": 312,
   "metadata": {
    "collapsed": false
   },
   "outputs": [
    {
     "data": {
      "text/plain": [
       "7804"
      ]
     },
     "execution_count": 312,
     "metadata": {},
     "output_type": "execute_result"
    }
   ],
   "source": [
    "len(data_2013)"
   ]
  },
  {
   "cell_type": "code",
   "execution_count": 313,
   "metadata": {
    "collapsed": false
   },
   "outputs": [
    {
     "data": {
      "text/plain": [
       "0            Associate degree\n",
       "1             Graduate degree\n",
       "2             Graduate degree\n",
       "3            Associate degree\n",
       "4             Graduate degree\n",
       "5             Graduate degree\n",
       "6             Graduate degree\n",
       "7             Graduate degree\n",
       "8            Associate degree\n",
       "9           Bachelor's degree\n",
       "10            Graduate degree\n",
       "11            Graduate degree\n",
       "12           Associate degree\n",
       "13            Graduate degree\n",
       "14            Graduate degree\n",
       "15         Certificate degree\n",
       "16           Associate degree\n",
       "17           Associate degree\n",
       "18          Bachelor's degree\n",
       "19           Associate degree\n",
       "20           Associate degree\n",
       "21           Associate degree\n",
       "22           Associate degree\n",
       "23            Graduate degree\n",
       "24            Graduate degree\n",
       "25            Graduate degree\n",
       "26            Graduate degree\n",
       "27         Certificate degree\n",
       "28           Associate degree\n",
       "29         Certificate degree\n",
       "                 ...         \n",
       "124669    Non-degree-granting\n",
       "124670    Non-degree-granting\n",
       "124671    Non-degree-granting\n",
       "124672    Non-degree-granting\n",
       "124673    Non-degree-granting\n",
       "124674    Non-degree-granting\n",
       "124675    Non-degree-granting\n",
       "124676    Non-degree-granting\n",
       "124677    Non-degree-granting\n",
       "124678    Non-degree-granting\n",
       "124679    Non-degree-granting\n",
       "124680    Non-degree-granting\n",
       "124681    Non-degree-granting\n",
       "124682    Non-degree-granting\n",
       "124683    Non-degree-granting\n",
       "124684    Non-degree-granting\n",
       "124685    Non-degree-granting\n",
       "124686    Non-degree-granting\n",
       "124687    Non-degree-granting\n",
       "124688    Non-degree-granting\n",
       "124689    Non-degree-granting\n",
       "124690    Non-degree-granting\n",
       "124691    Non-degree-granting\n",
       "124692    Non-degree-granting\n",
       "124693    Non-degree-granting\n",
       "124694    Non-degree-granting\n",
       "124695    Non-degree-granting\n",
       "124696    Non-degree-granting\n",
       "124697    Non-degree-granting\n",
       "124698    Non-degree-granting\n",
       "Name: HIGHDEG, dtype: object"
      ]
     },
     "execution_count": 313,
     "metadata": {},
     "output_type": "execute_result"
    }
   ],
   "source": [
    "raw.HIGHDEG"
   ]
  },
  {
   "cell_type": "code",
   "execution_count": null,
   "metadata": {
    "collapsed": true
   },
   "outputs": [],
   "source": []
  }
 ],
 "metadata": {
  "kernelspec": {
   "display_name": "Python 2",
   "language": "python",
   "name": "python2"
  },
  "language_info": {
   "codemirror_mode": {
    "name": "ipython",
    "version": 2
   },
   "file_extension": ".py",
   "mimetype": "text/x-python",
   "name": "python",
   "nbconvert_exporter": "python",
   "pygments_lexer": "ipython2",
   "version": "2.7.11"
  }
 },
 "nbformat": 4,
 "nbformat_minor": 0
}
