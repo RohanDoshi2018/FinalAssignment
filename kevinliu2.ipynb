{
 "cells": [
  {
   "cell_type": "code",
   "execution_count": 2,
   "metadata": {
    "collapsed": true
   },
   "outputs": [],
   "source": [
    "import numpy as np\n",
    "from scipy import stats\n",
    "import os\n",
    "import pandas as pd\n",
    "from sklearn.cross_validation import StratifiedKFold\n",
    "from sklearn.metrics import r2_score\n",
    "from sklearn.metrics import mean_squared_error\n",
    "from sklearn.cross_validation import KFold\n",
    "import math\n",
    "import matplotlib.pyplot as plt\n",
    "from sklearn import linear_model\n",
    "from sklearn.tree import DecisionTreeRegressor\n",
    "from sklearn.ensemble import RandomForestRegressor\n",
    "from sklearn.neighbors import KNeighborsRegressor\n",
    "from sklearn.svm import SVR\n",
    "import sqlite3\n",
    "%matplotlib inline"
   ]
  },
  {
   "cell_type": "code",
   "execution_count": 4,
   "metadata": {
    "collapsed": false
   },
   "outputs": [],
   "source": [
    "data_remove_e = pd.read_csv(\"data_for_rohan.csv\",low_memory=False)"
   ]
  },
  {
   "cell_type": "code",
   "execution_count": 12,
   "metadata": {
    "collapsed": false
   },
   "outputs": [],
   "source": [
    "data_remove_e = data_remove_e.drop('Unnamed: 0', axis=1)"
   ]
  },
  {
   "cell_type": "code",
   "execution_count": 14,
   "metadata": {
    "collapsed": false
   },
   "outputs": [],
   "source": [
    "data_remove_rpl = data_remove_e.drop(['COMPL_RPY_1YR_RT', 'NONCOM_RPY_1YR_RT', 'LO_INC_RPY_1YR_RT', 'MD_INC_RPY_1YR_RT'\\\n",
    "                                      , 'HI_INC_RPY_1YR_RT', 'DEP_RPY_1YR_RT', 'IND_RPY_1YR_RT', 'PELL_RPY_1YR_RT', \\\n",
    "                                      'NOPELL_RPY_1YR_RT', 'FEMALE_RPY_1YR_RT', 'MALE_RPY_1YR_RT', 'FIRSTGEN_RPY_1YR_RT', \\\n",
    "                                      'NOTFIRSTGEN_RPY_1YR_RT'], axis=1)"
   ]
  },
  {
   "cell_type": "code",
   "execution_count": 19,
   "metadata": {
    "collapsed": false
   },
   "outputs": [],
   "source": [
    "nan_counts = data_remove_rpl.count(axis=1)\n",
    "proportion_nan = []\n",
    "proportion_nan[:] = [1 - ((float) (a) / (float) (len(data_remove_rpl.columns))) for a in nan_counts]"
   ]
  },
  {
   "cell_type": "code",
   "execution_count": 30,
   "metadata": {
    "collapsed": false
   },
   "outputs": [
    {
     "data": {
      "text/plain": [
       "(1729, 245)"
      ]
     },
     "execution_count": 30,
     "metadata": {},
     "output_type": "execute_result"
    }
   ],
   "source": [
    "df_p_nan = pd.DataFrame(proportion_nan)\n",
    "delete_these_rows = df_p_nan.ix[df_p_nan[0] > 0.9].index.values\n",
    "data_thinner = data_remove_rpl.drop(data_remove_rpl.index[delete_these_rows])\n",
    "data_thinner.shape"
   ]
  },
  {
   "cell_type": "code",
   "execution_count": 52,
   "metadata": {
    "collapsed": false
   },
   "outputs": [],
   "source": [
    "data_thinner = data_thinner.drop(['count_ed', 'count_nwne_p6', 'count_wne_p6', 'md_earn_wne_p6', 'pct10_earn_wne_p6',\\\n",
    "                                     'pct25_earn_wne_p6', 'pct75_earn_wne_p6', 'pct90_earn_wne_p6', 'sd_earn_wne_p6', \\\n",
    "                                     'gt_25k_p6', 'mn_earn_wne_inc1_p6', 'mn_earn_wne_inc2_p6',\\\n",
    "                                     'mn_earn_wne_inc3_p6'], axis=1)"
   ]
  },
  {
   "cell_type": "code",
   "execution_count": 90,
   "metadata": {
    "collapsed": false
   },
   "outputs": [],
   "source": [
    "data_thinner = data_thinner.reset_index()\n",
    "data_thinner = data_thinner.drop('index', axis=1)\n",
    "keep_indices = np.isfinite(data_thinner.mn_earn_wne_p6)"
   ]
  },
  {
   "cell_type": "code",
   "execution_count": 91,
   "metadata": {
    "collapsed": false
   },
   "outputs": [],
   "source": [
    "drop_this = []\n",
    "for i in range(len(keep_indices)):\n",
    "    if keep_indices.ix[i] == False:\n",
    "        drop_this.append(i)\n",
    "data_super_thin = data_thinner.drop(data_thinner.index[drop_this])"
   ]
  },
  {
   "cell_type": "code",
   "execution_count": 92,
   "metadata": {
    "collapsed": true
   },
   "outputs": [],
   "source": [
    "data_super_nans = data_super_thin.replace(np.nan,'nan')"
   ]
  },
  {
   "cell_type": "code",
   "execution_count": 93,
   "metadata": {
    "collapsed": true
   },
   "outputs": [],
   "source": [
    "data_super_nans.to_csv('data_super_nan.csv', encoding='utf-8')"
   ]
  },
  {
   "cell_type": "code",
   "execution_count": 130,
   "metadata": {
    "collapsed": false
   },
   "outputs": [],
   "source": [
    "data_needs_headers = pd.read_csv(\"data_imputed.csv\",low_memory=False,header=None)"
   ]
  },
  {
   "cell_type": "code",
   "execution_count": 126,
   "metadata": {
    "collapsed": false
   },
   "outputs": [],
   "source": [
    "data_super_nans = data_super_nans.drop('level_0', axis=1)"
   ]
  },
  {
   "cell_type": "code",
   "execution_count": 131,
   "metadata": {
    "collapsed": false
   },
   "outputs": [],
   "source": [
    "data_still_needs_headers = data_needs_headers.drop(0,axis=1)\n",
    "data_still_needs_headers.columns = data_super_nans.columns"
   ]
  },
  {
   "cell_type": "code",
   "execution_count": 132,
   "metadata": {
    "collapsed": false
   },
   "outputs": [],
   "source": [
    "data_still_needs_headers.to_csv('data_full_final.csv', encoding='utf-8')"
   ]
  },
  {
   "cell_type": "code",
   "execution_count": 134,
   "metadata": {
    "collapsed": false
   },
   "outputs": [],
   "source": [
    "data_z = stats.zscore(data_still_needs_headers, axis=1)"
   ]
  },
  {
   "cell_type": "code",
   "execution_count": 136,
   "metadata": {
    "collapsed": false
   },
   "outputs": [],
   "source": [
    "data_z_full = pd.DataFrame(data=data_z,columns=data_super_nans.columns)\n",
    "data_z_full.ix[:,'UNITID'] = data_still_needs_headers.ix[:,'UNITID']\n",
    "data_z_full.to_csv('data_z_full_final.csv', encoding='utf-8')"
   ]
  },
  {
   "cell_type": "code",
   "execution_count": 141,
   "metadata": {
    "collapsed": false
   },
   "outputs": [],
   "source": [
    "y_full = data_still_needs_headers.ix[:,'mn_earn_wne_p6']\n",
    "y_full_z = data_z_full.ix[:,'mn_earn_wne_p6']"
   ]
  },
  {
   "cell_type": "code",
   "execution_count": 142,
   "metadata": {
    "collapsed": true
   },
   "outputs": [],
   "source": [
    "x_full = data_still_needs_headers.drop('mn_earn_wne_p6', axis=1)\n",
    "x_full_z = data_z_full.drop('mn_earn_wne_p6', axis=1)"
   ]
  },
  {
   "cell_type": "code",
   "execution_count": 146,
   "metadata": {
    "collapsed": true
   },
   "outputs": [],
   "source": [
    "y_full.to_csv('y_full.csv', encoding='utf-8',index=False)\n",
    "y_full_z.to_csv('y_full_z.csv', encoding='utf-8',index=False)\n",
    "x_full.to_csv('x_full.csv', encoding='utf-8',index=False)\n",
    "x_full_z.to_csv('x_full_z.csv', encoding='utf-8',index=False)"
   ]
  },
  {
   "cell_type": "code",
   "execution_count": 155,
   "metadata": {
    "collapsed": false
   },
   "outputs": [],
   "source": [
    "data_all_names = pd.read_csv('old_data/data_full.csv', low_memory=False)"
   ]
  },
  {
   "cell_type": "code",
   "execution_count": 156,
   "metadata": {
    "collapsed": true
   },
   "outputs": [],
   "source": [
    "data_all_names = data_all_names.drop('Unnamed: 0', axis=1)"
   ]
  },
  {
   "cell_type": "code",
   "execution_count": 158,
   "metadata": {
    "collapsed": false
   },
   "outputs": [],
   "source": [
    "inst_names = []\n",
    "for i in range(len(data_still_needs_headers)):\n",
    "    find_id = data_still_needs_headers.ix[i,'UNITID']\n",
    "    for j in range(len(data_all_names)):\n",
    "        if data_all_names.ix[j,'UNITID']==find_id:\n",
    "            inst_names.append(data_all_names.ix[j,'INSTNM'])"
   ]
  },
  {
   "cell_type": "code",
   "execution_count": 171,
   "metadata": {
    "collapsed": false
   },
   "outputs": [],
   "source": [
    "data_still_needs_headers.index = inst_names\n",
    "data_named = data_still_needs_headers"
   ]
  },
  {
   "cell_type": "code",
   "execution_count": 172,
   "metadata": {
    "collapsed": false
   },
   "outputs": [],
   "source": [
    "data_named.to_csv('data_named.csv', encoding='utf-8')"
   ]
  },
  {
   "cell_type": "code",
   "execution_count": 174,
   "metadata": {
    "collapsed": false
   },
   "outputs": [],
   "source": [
    "data_z_named = stats.zscore(data_named, axis=1)\n",
    "data_z_full_named = pd.DataFrame(data=data_z_named,columns=data_super_nans.columns)"
   ]
  },
  {
   "cell_type": "code",
   "execution_count": 188,
   "metadata": {
    "collapsed": false
   },
   "outputs": [],
   "source": [
    "data_z_full_named.index = data_named.index"
   ]
  },
  {
   "cell_type": "code",
   "execution_count": 189,
   "metadata": {
    "collapsed": true
   },
   "outputs": [],
   "source": [
    "data_z_full_named.ix[:,'UNITID'] = data_named.ix[:,'UNITID']"
   ]
  },
  {
   "cell_type": "code",
   "execution_count": 191,
   "metadata": {
    "collapsed": false
   },
   "outputs": [],
   "source": [
    "data_z_full_named.to_csv('data_z_full_final_named.csv', encoding='utf-8')"
   ]
  },
  {
   "cell_type": "code",
   "execution_count": null,
   "metadata": {
    "collapsed": true
   },
   "outputs": [],
   "source": [
    "y_full_named = data_named.ix[:,'mn_earn_wne_p6']\n",
    "y_full_z_named = data_z_full_named.ix[:,'mn_earn_wne_p6']\n",
    "x_full_name = data_named.drop('mn_earn_wne_p6', axis=1)\n",
    "x_full_z = data_z_full_named.drop('mn_earn_wne_p6', axis=1)"
   ]
  }
 ],
 "metadata": {
  "kernelspec": {
   "display_name": "Python 2",
   "language": "python",
   "name": "python2"
  },
  "language_info": {
   "codemirror_mode": {
    "name": "ipython",
    "version": 2
   },
   "file_extension": ".py",
   "mimetype": "text/x-python",
   "name": "python",
   "nbconvert_exporter": "python",
   "pygments_lexer": "ipython2",
   "version": "2.7.11"
  }
 },
 "nbformat": 4,
 "nbformat_minor": 0
}
