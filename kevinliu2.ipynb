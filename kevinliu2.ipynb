{
 "cells": [
  {
   "cell_type": "code",
   "execution_count": 2,
   "metadata": {
    "collapsed": true
   },
   "outputs": [],
   "source": [
    "import numpy as np\n",
    "from scipy import stats\n",
    "import os\n",
    "import pandas as pd\n",
    "from sklearn.cross_validation import StratifiedKFold\n",
    "from sklearn.metrics import r2_score\n",
    "from sklearn.metrics import mean_squared_error\n",
    "from sklearn.cross_validation import KFold\n",
    "import math\n",
    "import matplotlib.pyplot as plt\n",
    "from sklearn import linear_model\n",
    "from sklearn.tree import DecisionTreeRegressor\n",
    "from sklearn.ensemble import RandomForestRegressor\n",
    "from sklearn.neighbors import KNeighborsRegressor\n",
    "from sklearn.svm import SVR\n",
    "import sqlite3\n",
    "%matplotlib inline"
   ]
  },
  {
   "cell_type": "code",
   "execution_count": 4,
   "metadata": {
    "collapsed": false
   },
   "outputs": [],
   "source": [
    "data_remove_e = pd.read_csv(\"data_for_rohan.csv\",low_memory=False)"
   ]
  },
  {
   "cell_type": "code",
   "execution_count": 12,
   "metadata": {
    "collapsed": false
   },
   "outputs": [],
   "source": [
    "data_remove_e = data_remove_e.drop('Unnamed: 0', axis=1)"
   ]
  },
  {
   "cell_type": "code",
   "execution_count": 14,
   "metadata": {
    "collapsed": false
   },
   "outputs": [],
   "source": [
    "data_remove_rpl = data_remove_e.drop(['COMPL_RPY_1YR_RT', 'NONCOM_RPY_1YR_RT', 'LO_INC_RPY_1YR_RT', 'MD_INC_RPY_1YR_RT'\\\n",
    "                                      , 'HI_INC_RPY_1YR_RT', 'DEP_RPY_1YR_RT', 'IND_RPY_1YR_RT', 'PELL_RPY_1YR_RT', \\\n",
    "                                      'NOPELL_RPY_1YR_RT', 'FEMALE_RPY_1YR_RT', 'MALE_RPY_1YR_RT', 'FIRSTGEN_RPY_1YR_RT', \\\n",
    "                                      'NOTFIRSTGEN_RPY_1YR_RT'], axis=1)"
   ]
  },
  {
   "cell_type": "code",
   "execution_count": 19,
   "metadata": {
    "collapsed": false
   },
   "outputs": [],
   "source": [
    "nan_counts = data_remove_rpl.count(axis=1)\n",
    "proportion_nan = []\n",
    "proportion_nan[:] = [1 - ((float) (a) / (float) (len(data_remove_rpl.columns))) for a in nan_counts]"
   ]
  },
  {
   "cell_type": "code",
   "execution_count": 30,
   "metadata": {
    "collapsed": false
   },
   "outputs": [
    {
     "data": {
      "text/plain": [
       "(1729, 245)"
      ]
     },
     "execution_count": 30,
     "metadata": {},
     "output_type": "execute_result"
    }
   ],
   "source": [
    "df_p_nan = pd.DataFrame(proportion_nan)\n",
    "delete_these_rows = df_p_nan.ix[df_p_nan[0] > 0.9].index.values\n",
    "data_thinner = data_remove_rpl.drop(data_remove_rpl.index[delete_these_rows])\n",
    "data_thinner.shape"
   ]
  },
  {
   "cell_type": "code",
   "execution_count": 52,
   "metadata": {
    "collapsed": false
   },
   "outputs": [],
   "source": [
    "data_thinner = data_thinner.drop(['count_ed', 'count_nwne_p6', 'count_wne_p6', 'md_earn_wne_p6', 'pct10_earn_wne_p6',\\\n",
    "                                     'pct25_earn_wne_p6', 'pct75_earn_wne_p6', 'pct90_earn_wne_p6', 'sd_earn_wne_p6', \\\n",
    "                                     'gt_25k_p6', 'mn_earn_wne_inc1_p6', 'mn_earn_wne_inc2_p6',\\\n",
    "                                     'mn_earn_wne_inc3_p6'], axis=1)"
   ]
  },
  {
   "cell_type": "code",
   "execution_count": 90,
   "metadata": {
    "collapsed": false
   },
   "outputs": [],
   "source": [
    "data_thinner = data_thinner.reset_index()\n",
    "data_thinner = data_thinner.drop('index', axis=1)\n",
    "keep_indices = np.isfinite(data_thinner.mn_earn_wne_p6)"
   ]
  },
  {
   "cell_type": "code",
   "execution_count": 91,
   "metadata": {
    "collapsed": false
   },
   "outputs": [],
   "source": [
    "drop_this = []\n",
    "for i in range(len(keep_indices)):\n",
    "    if keep_indices.ix[i] == False:\n",
    "        drop_this.append(i)\n",
    "data_super_thin = data_thinner.drop(data_thinner.index[drop_this])"
   ]
  },
  {
   "cell_type": "code",
   "execution_count": 92,
   "metadata": {
    "collapsed": true
   },
   "outputs": [],
   "source": [
    "data_super_nans = data_super_thin.replace(np.nan,'nan')"
   ]
  },
  {
   "cell_type": "code",
   "execution_count": 93,
   "metadata": {
    "collapsed": true
   },
   "outputs": [],
   "source": [
    "data_super_nans.to_csv('data_super_nan.csv', encoding='utf-8')"
   ]
  },
  {
   "cell_type": "code",
   "execution_count": 130,
   "metadata": {
    "collapsed": false
   },
   "outputs": [],
   "source": [
    "data_needs_headers = pd.read_csv(\"data_imputed.csv\",low_memory=False,header=None)"
   ]
  },
  {
   "cell_type": "code",
   "execution_count": 126,
   "metadata": {
    "collapsed": false
   },
   "outputs": [],
   "source": [
    "data_super_nans = data_super_nans.drop('level_0', axis=1)"
   ]
  },
  {
   "cell_type": "code",
   "execution_count": 131,
   "metadata": {
    "collapsed": false
   },
   "outputs": [],
   "source": [
    "data_still_needs_headers = data_needs_headers.drop(0,axis=1)\n",
    "data_still_needs_headers.columns = data_super_nans.columns"
   ]
  },
  {
   "cell_type": "code",
   "execution_count": 132,
   "metadata": {
    "collapsed": false
   },
   "outputs": [],
   "source": [
    "data_still_needs_headers.to_csv('data_full_final.csv', encoding='utf-8')"
   ]
  },
  {
   "cell_type": "code",
   "execution_count": 134,
   "metadata": {
    "collapsed": false
   },
   "outputs": [],
   "source": [
    "data_z = stats.zscore(data_still_needs_headers, axis=1)"
   ]
  },
  {
   "cell_type": "code",
   "execution_count": 136,
   "metadata": {
    "collapsed": false
   },
   "outputs": [],
   "source": [
    "data_z_full = pd.DataFrame(data=data_z,columns=data_super_nans.columns)\n",
    "data_z_full.ix[:,'UNITID'] = data_still_needs_headers.ix[:,'UNITID']\n",
    "data_z_full.to_csv('data_z_full_final.csv', encoding='utf-8')"
   ]
  },
  {
   "cell_type": "code",
   "execution_count": 141,
   "metadata": {
    "collapsed": false
   },
   "outputs": [],
   "source": [
    "y_full = data_still_needs_headers.ix[:,'mn_earn_wne_p6']\n",
    "y_full_z = data_z_full.ix[:,'mn_earn_wne_p6']"
   ]
  },
  {
   "cell_type": "code",
   "execution_count": 142,
   "metadata": {
    "collapsed": true
   },
   "outputs": [],
   "source": [
    "x_full = data_still_needs_headers.drop('mn_earn_wne_p6', axis=1)\n",
    "x_full_z = data_z_full.drop('mn_earn_wne_p6', axis=1)"
   ]
  },
  {
   "cell_type": "code",
   "execution_count": 146,
   "metadata": {
    "collapsed": true
   },
   "outputs": [],
   "source": [
    "y_full.to_csv('y_full.csv', encoding='utf-8',index=False)\n",
    "y_full_z.to_csv('y_full_z.csv', encoding='utf-8',index=False)\n",
    "x_full.to_csv('x_full.csv', encoding='utf-8',index=False)\n",
    "x_full_z.to_csv('x_full_z.csv', encoding='utf-8',index=False)"
   ]
  },
  {
   "cell_type": "code",
   "execution_count": 155,
   "metadata": {
    "collapsed": false
   },
   "outputs": [],
   "source": [
    "data_all_names = pd.read_csv('old_data/data_full.csv', low_memory=False)"
   ]
  },
  {
   "cell_type": "code",
   "execution_count": 156,
   "metadata": {
    "collapsed": true
   },
   "outputs": [],
   "source": [
    "data_all_names = data_all_names.drop('Unnamed: 0', axis=1)"
   ]
  },
  {
   "cell_type": "code",
   "execution_count": 158,
   "metadata": {
    "collapsed": false
   },
   "outputs": [],
   "source": [
    "inst_names = []\n",
    "for i in range(len(data_still_needs_headers)):\n",
    "    find_id = data_still_needs_headers.ix[i,'UNITID']\n",
    "    for j in range(len(data_all_names)):\n",
    "        if data_all_names.ix[j,'UNITID']==find_id:\n",
    "            inst_names.append(data_all_names.ix[j,'INSTNM'])"
   ]
  },
  {
   "cell_type": "code",
   "execution_count": 171,
   "metadata": {
    "collapsed": false
   },
   "outputs": [],
   "source": [
    "data_still_needs_headers.index = inst_names\n",
    "data_named = data_still_needs_headers"
   ]
  },
  {
   "cell_type": "code",
   "execution_count": 172,
   "metadata": {
    "collapsed": false
   },
   "outputs": [],
   "source": [
    "data_named.to_csv('data_named.csv', encoding='utf-8')"
   ]
  },
  {
   "cell_type": "code",
   "execution_count": 174,
   "metadata": {
    "collapsed": false
   },
   "outputs": [],
   "source": [
    "data_z_named = stats.zscore(data_named, axis=1)\n",
    "data_z_full_named = pd.DataFrame(data=data_z_named,columns=data_super_nans.columns)"
   ]
  },
  {
   "cell_type": "code",
   "execution_count": 188,
   "metadata": {
    "collapsed": false
   },
   "outputs": [],
   "source": [
    "data_z_full_named.index = data_named.index"
   ]
  },
  {
   "cell_type": "code",
   "execution_count": 189,
   "metadata": {
    "collapsed": true
   },
   "outputs": [],
   "source": [
    "data_z_full_named.ix[:,'UNITID'] = data_named.ix[:,'UNITID']"
   ]
  },
  {
   "cell_type": "code",
   "execution_count": 191,
   "metadata": {
    "collapsed": false
   },
   "outputs": [],
   "source": [
    "data_z_full_named.to_csv('data_z_full_final_named.csv', encoding='utf-8')"
   ]
  },
  {
   "cell_type": "code",
   "execution_count": 192,
   "metadata": {
    "collapsed": true
   },
   "outputs": [],
   "source": [
    "y_full_named = data_named.ix[:,'mn_earn_wne_p6']\n",
    "y_full_z_named = data_z_full_named.ix[:,'mn_earn_wne_p6']\n",
    "x_full_named = data_named.drop('mn_earn_wne_p6', axis=1)\n",
    "x_full_z_named = data_z_full_named.drop('mn_earn_wne_p6', axis=1)"
   ]
  },
  {
   "cell_type": "code",
   "execution_count": 194,
   "metadata": {
    "collapsed": false
   },
   "outputs": [],
   "source": [
    "y_full_named.to_csv('y_named.csv', encoding='utf-8')\n",
    "y_full_z_named.to_csv('y_named_z.csv', encoding='utf-8')\n",
    "x_full_named.to_csv('x_named.csv', encoding='utf-8')\n",
    "x_full_z_named.to_csv('x_named_z.csv', encoding='utf-8')"
   ]
  },
  {
   "cell_type": "code",
   "execution_count": 245,
   "metadata": {
    "collapsed": false
   },
   "outputs": [],
   "source": [
    "test = pd.read_csv('y_named.csv',low_memory=False,header=None)\n",
    "test_col = test.ix[:,0]\n",
    "test.index = test_col"
   ]
  },
  {
   "cell_type": "code",
   "execution_count": 249,
   "metadata": {
    "collapsed": false
   },
   "outputs": [],
   "source": [
    "list_col = test_col.tolist()"
   ]
  },
  {
   "cell_type": "code",
   "execution_count": 250,
   "metadata": {
    "collapsed": true
   },
   "outputs": [],
   "source": [
    "test.index = list_col"
   ]
  },
  {
   "cell_type": "code",
   "execution_count": 254,
   "metadata": {
    "collapsed": false
   },
   "outputs": [
    {
     "data": {
      "text/html": [
       "<div>\n",
       "<table border=\"1\" class=\"dataframe\">\n",
       "  <thead>\n",
       "    <tr style=\"text-align: right;\">\n",
       "      <th></th>\n",
       "      <th>1</th>\n",
       "    </tr>\n",
       "  </thead>\n",
       "  <tbody>\n",
       "    <tr>\n",
       "      <th>Alabama A &amp; M University</th>\n",
       "      <td>29400</td>\n",
       "    </tr>\n",
       "    <tr>\n",
       "      <th>University of Alabama at Birmingham</th>\n",
       "      <td>39500</td>\n",
       "    </tr>\n",
       "    <tr>\n",
       "      <th>Amridge University</th>\n",
       "      <td>45200</td>\n",
       "    </tr>\n",
       "    <tr>\n",
       "      <th>University of Alabama in Huntsville</th>\n",
       "      <td>41200</td>\n",
       "    </tr>\n",
       "    <tr>\n",
       "      <th>Alabama State University</th>\n",
       "      <td>24100</td>\n",
       "    </tr>\n",
       "    <tr>\n",
       "      <th>The University of Alabama</th>\n",
       "      <td>38800</td>\n",
       "    </tr>\n",
       "    <tr>\n",
       "      <th>Auburn University at Montgomery</th>\n",
       "      <td>32800</td>\n",
       "    </tr>\n",
       "    <tr>\n",
       "      <th>Auburn University</th>\n",
       "      <td>44000</td>\n",
       "    </tr>\n",
       "    <tr>\n",
       "      <th>South University-Montgomery</th>\n",
       "      <td>32500</td>\n",
       "    </tr>\n",
       "    <tr>\n",
       "      <th>Faulkner University</th>\n",
       "      <td>37800</td>\n",
       "    </tr>\n",
       "    <tr>\n",
       "      <th>Jacksonville State University</th>\n",
       "      <td>32200</td>\n",
       "    </tr>\n",
       "    <tr>\n",
       "      <th>University of West Alabama</th>\n",
       "      <td>32300</td>\n",
       "    </tr>\n",
       "    <tr>\n",
       "      <th>University of Mobile</th>\n",
       "      <td>36500</td>\n",
       "    </tr>\n",
       "    <tr>\n",
       "      <th>University of Montevallo</th>\n",
       "      <td>30800</td>\n",
       "    </tr>\n",
       "    <tr>\n",
       "      <th>University of North Alabama</th>\n",
       "      <td>33100</td>\n",
       "    </tr>\n",
       "    <tr>\n",
       "      <th>Oakwood University</th>\n",
       "      <td>30300</td>\n",
       "    </tr>\n",
       "    <tr>\n",
       "      <th>Samford University</th>\n",
       "      <td>41000</td>\n",
       "    </tr>\n",
       "    <tr>\n",
       "      <th>University of South Alabama</th>\n",
       "      <td>36300</td>\n",
       "    </tr>\n",
       "    <tr>\n",
       "      <th>Spring Hill College</th>\n",
       "      <td>36700</td>\n",
       "    </tr>\n",
       "    <tr>\n",
       "      <th>Troy University</th>\n",
       "      <td>35900</td>\n",
       "    </tr>\n",
       "    <tr>\n",
       "      <th>Tuskegee University</th>\n",
       "      <td>33600</td>\n",
       "    </tr>\n",
       "    <tr>\n",
       "      <th>University of Alaska Anchorage</th>\n",
       "      <td>34700</td>\n",
       "    </tr>\n",
       "    <tr>\n",
       "      <th>University of Alaska Fairbanks</th>\n",
       "      <td>32300</td>\n",
       "    </tr>\n",
       "    <tr>\n",
       "      <th>University of Alaska Southeast</th>\n",
       "      <td>30900</td>\n",
       "    </tr>\n",
       "    <tr>\n",
       "      <th>Alaska Pacific University</th>\n",
       "      <td>41600</td>\n",
       "    </tr>\n",
       "    <tr>\n",
       "      <th>Arizona State University-Tempe</th>\n",
       "      <td>46300</td>\n",
       "    </tr>\n",
       "    <tr>\n",
       "      <th>University of Arizona</th>\n",
       "      <td>44200</td>\n",
       "    </tr>\n",
       "    <tr>\n",
       "      <th>Embry-Riddle Aeronautical University-Prescott</th>\n",
       "      <td>47300</td>\n",
       "    </tr>\n",
       "    <tr>\n",
       "      <th>Grand Canyon University</th>\n",
       "      <td>46600</td>\n",
       "    </tr>\n",
       "    <tr>\n",
       "      <th>Northern Arizona University</th>\n",
       "      <td>40200</td>\n",
       "    </tr>\n",
       "    <tr>\n",
       "      <th>...</th>\n",
       "      <td>...</td>\n",
       "    </tr>\n",
       "    <tr>\n",
       "      <th>University of Phoenix-Houston Campus</th>\n",
       "      <td>61600</td>\n",
       "    </tr>\n",
       "    <tr>\n",
       "      <th>University of Phoenix-Milwaukee Campus</th>\n",
       "      <td>61600</td>\n",
       "    </tr>\n",
       "    <tr>\n",
       "      <th>University of Phoenix-Idaho Campus</th>\n",
       "      <td>61600</td>\n",
       "    </tr>\n",
       "    <tr>\n",
       "      <th>Oregon State University-Cascades Campus</th>\n",
       "      <td>40900</td>\n",
       "    </tr>\n",
       "    <tr>\n",
       "      <th>Southern University Law Center</th>\n",
       "      <td>26300</td>\n",
       "    </tr>\n",
       "    <tr>\n",
       "      <th>San Diego State University-Imperial Valley Campus</th>\n",
       "      <td>43700</td>\n",
       "    </tr>\n",
       "    <tr>\n",
       "      <th>University of Phoenix-Kansas City Campus</th>\n",
       "      <td>61600</td>\n",
       "    </tr>\n",
       "    <tr>\n",
       "      <th>University of Phoenix-Atlanta Campus</th>\n",
       "      <td>61600</td>\n",
       "    </tr>\n",
       "    <tr>\n",
       "      <th>University of Phoenix-Chicago Campus</th>\n",
       "      <td>61600</td>\n",
       "    </tr>\n",
       "    <tr>\n",
       "      <th>University of Phoenix-Nashville Campus</th>\n",
       "      <td>61600</td>\n",
       "    </tr>\n",
       "    <tr>\n",
       "      <th>Argosy University-Dallas</th>\n",
       "      <td>51600</td>\n",
       "    </tr>\n",
       "    <tr>\n",
       "      <th>Ottawa University-Jeffersonville</th>\n",
       "      <td>44100</td>\n",
       "    </tr>\n",
       "    <tr>\n",
       "      <th>University of Phoenix-Charlotte Campus</th>\n",
       "      <td>61600</td>\n",
       "    </tr>\n",
       "    <tr>\n",
       "      <th>University of Phoenix-Indianapolis Campus</th>\n",
       "      <td>61600</td>\n",
       "    </tr>\n",
       "    <tr>\n",
       "      <th>University of Phoenix-Columbus Georgia Campus</th>\n",
       "      <td>61600</td>\n",
       "    </tr>\n",
       "    <tr>\n",
       "      <th>University of Phoenix-Memphis Campus</th>\n",
       "      <td>61600</td>\n",
       "    </tr>\n",
       "    <tr>\n",
       "      <th>University of Phoenix-Little Rock Campus</th>\n",
       "      <td>61600</td>\n",
       "    </tr>\n",
       "    <tr>\n",
       "      <th>Baker College of Allen Park</th>\n",
       "      <td>29600</td>\n",
       "    </tr>\n",
       "    <tr>\n",
       "      <th>American InterContinental University-Houston</th>\n",
       "      <td>45100</td>\n",
       "    </tr>\n",
       "    <tr>\n",
       "      <th>University of California-Merced</th>\n",
       "      <td>48200</td>\n",
       "    </tr>\n",
       "    <tr>\n",
       "      <th>Central Methodist University-College of Graduate and Extended Studies</th>\n",
       "      <td>31100</td>\n",
       "    </tr>\n",
       "    <tr>\n",
       "      <th>University of Phoenix-Minneapolis St Paul Campus</th>\n",
       "      <td>61600</td>\n",
       "    </tr>\n",
       "    <tr>\n",
       "      <th>University of Phoenix-Louisville Campus</th>\n",
       "      <td>61600</td>\n",
       "    </tr>\n",
       "    <tr>\n",
       "      <th>University of Phoenix-Central Valley Campus</th>\n",
       "      <td>61600</td>\n",
       "    </tr>\n",
       "    <tr>\n",
       "      <th>University of Phoenix-San Antonio Campus</th>\n",
       "      <td>61600</td>\n",
       "    </tr>\n",
       "    <tr>\n",
       "      <th>University of Phoenix-Austin Campus</th>\n",
       "      <td>61600</td>\n",
       "    </tr>\n",
       "    <tr>\n",
       "      <th>University of Phoenix-Raleigh Campus</th>\n",
       "      <td>61600</td>\n",
       "    </tr>\n",
       "    <tr>\n",
       "      <th>Argosy University-Los Angeles</th>\n",
       "      <td>36100</td>\n",
       "    </tr>\n",
       "    <tr>\n",
       "      <th>University of Phoenix-Savannah Campus</th>\n",
       "      <td>61600</td>\n",
       "    </tr>\n",
       "    <tr>\n",
       "      <th>University of Phoenix-Northern Nevada Campus</th>\n",
       "      <td>61600</td>\n",
       "    </tr>\n",
       "  </tbody>\n",
       "</table>\n",
       "<p>1534 rows × 1 columns</p>\n",
       "</div>"
      ],
      "text/plain": [
       "                                                        1\n",
       "Alabama A & M University                            29400\n",
       "University of Alabama at Birmingham                 39500\n",
       "Amridge University                                  45200\n",
       "University of Alabama in Huntsville                 41200\n",
       "Alabama State University                            24100\n",
       "The University of Alabama                           38800\n",
       "Auburn University at Montgomery                     32800\n",
       "Auburn University                                   44000\n",
       "South University-Montgomery                         32500\n",
       "Faulkner University                                 37800\n",
       "Jacksonville State University                       32200\n",
       "University of West Alabama                          32300\n",
       "University of Mobile                                36500\n",
       "University of Montevallo                            30800\n",
       "University of North Alabama                         33100\n",
       "Oakwood University                                  30300\n",
       "Samford University                                  41000\n",
       "University of South Alabama                         36300\n",
       "Spring Hill College                                 36700\n",
       "Troy University                                     35900\n",
       "Tuskegee University                                 33600\n",
       "University of Alaska Anchorage                      34700\n",
       "University of Alaska Fairbanks                      32300\n",
       "University of Alaska Southeast                      30900\n",
       "Alaska Pacific University                           41600\n",
       "Arizona State University-Tempe                      46300\n",
       "University of Arizona                               44200\n",
       "Embry-Riddle Aeronautical University-Prescott       47300\n",
       "Grand Canyon University                             46600\n",
       "Northern Arizona University                         40200\n",
       "...                                                   ...\n",
       "University of Phoenix-Houston Campus                61600\n",
       "University of Phoenix-Milwaukee Campus              61600\n",
       "University of Phoenix-Idaho Campus                  61600\n",
       "Oregon State University-Cascades Campus             40900\n",
       "Southern University Law Center                      26300\n",
       "San Diego State University-Imperial Valley Campus   43700\n",
       "University of Phoenix-Kansas City Campus            61600\n",
       "University of Phoenix-Atlanta Campus                61600\n",
       "University of Phoenix-Chicago Campus                61600\n",
       "University of Phoenix-Nashville Campus              61600\n",
       "Argosy University-Dallas                            51600\n",
       "Ottawa University-Jeffersonville                    44100\n",
       "University of Phoenix-Charlotte Campus              61600\n",
       "University of Phoenix-Indianapolis Campus           61600\n",
       "University of Phoenix-Columbus Georgia Campus       61600\n",
       "University of Phoenix-Memphis Campus                61600\n",
       "University of Phoenix-Little Rock Campus            61600\n",
       "Baker College of Allen Park                         29600\n",
       "American InterContinental University-Houston        45100\n",
       "University of California-Merced                     48200\n",
       "Central Methodist University-College of Graduat...  31100\n",
       "University of Phoenix-Minneapolis St Paul Campus    61600\n",
       "University of Phoenix-Louisville Campus             61600\n",
       "University of Phoenix-Central Valley Campus         61600\n",
       "University of Phoenix-San Antonio Campus            61600\n",
       "University of Phoenix-Austin Campus                 61600\n",
       "University of Phoenix-Raleigh Campus                61600\n",
       "Argosy University-Los Angeles                       36100\n",
       "University of Phoenix-Savannah Campus               61600\n",
       "University of Phoenix-Northern Nevada Campus        61600\n",
       "\n",
       "[1534 rows x 1 columns]"
      ]
     },
     "execution_count": 254,
     "metadata": {},
     "output_type": "execute_result"
    }
   ],
   "source": [
    "test_nice = test.drop(0,axis=1)\n",
    "test_nice"
   ]
  },
  {
   "cell_type": "code",
   "execution_count": null,
   "metadata": {
    "collapsed": true
   },
   "outputs": [],
   "source": []
  }
 ],
 "metadata": {
  "kernelspec": {
   "display_name": "Python 2",
   "language": "python",
   "name": "python2"
  },
  "language_info": {
   "codemirror_mode": {
    "name": "ipython",
    "version": 2
   },
   "file_extension": ".py",
   "mimetype": "text/x-python",
   "name": "python",
   "nbconvert_exporter": "python",
   "pygments_lexer": "ipython2",
   "version": "2.7.11"
  }
 },
 "nbformat": 4,
 "nbformat_minor": 0
}
